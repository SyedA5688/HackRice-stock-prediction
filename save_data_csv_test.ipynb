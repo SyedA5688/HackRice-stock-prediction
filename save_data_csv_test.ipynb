{
 "cells": [
  {
   "cell_type": "code",
   "execution_count": 10,
   "metadata": {
    "scrolled": true
   },
   "outputs": [
    {
     "name": "stdout",
     "output_type": "stream",
     "text": [
      "Requirement already satisfied: alpha_vantage in c:\\users\\asad5\\anaconda3\\lib\\site-packages (2.2.0)Note: you may need to restart the kernel to use updated packages.\n",
      "Requirement already satisfied: requests in c:\\users\\asad5\\anaconda3\\lib\\site-packages (from alpha_vantage) (2.24.0)\n",
      "Requirement already satisfied: aiohttp in c:\\users\\asad5\\anaconda3\\lib\\site-packages (from alpha_vantage) (3.6.2)\n",
      "Requirement already satisfied: chardet<4,>=3.0.2 in c:\\users\\asad5\\anaconda3\\lib\\site-packages (from requests->alpha_vantage) (3.0.4)\n",
      "Requirement already satisfied: idna<3,>=2.5 in c:\\users\\asad5\\anaconda3\\lib\\site-packages (from requests->alpha_vantage) (2.10)\n",
      "Requirement already satisfied: urllib3!=1.25.0,!=1.25.1,<1.26,>=1.21.1 in c:\\users\\asad5\\anaconda3\\lib\\site-packages (from requests->alpha_vantage) (1.25.9)\n",
      "Requirement already satisfied: certifi>=2017.4.17 in c:\\users\\asad5\\anaconda3\\lib\\site-packages (from requests->alpha_vantage) (2020.6.20)\n",
      "Requirement already satisfied: async-timeout<4.0,>=3.0 in c:\\users\\asad5\\anaconda3\\lib\\site-packages (from aiohttp->alpha_vantage) (3.0.1)\n",
      "Requirement already satisfied: attrs>=17.3.0 in c:\\users\\asad5\\anaconda3\\lib\\site-packages (from aiohttp->alpha_vantage) (19.3.0)\n",
      "Requirement already satisfied: yarl<2.0,>=1.0 in c:\\users\\asad5\\anaconda3\\lib\\site-packages (from aiohttp->alpha_vantage) (1.5.1)\n",
      "Requirement already satisfied: multidict<5.0,>=4.5 in c:\\users\\asad5\\anaconda3\\lib\\site-packages (from aiohttp->alpha_vantage) (4.7.6)\n",
      "\n"
     ]
    }
   ],
   "source": [
    "pip install alpha_vantage"
   ]
  },
  {
   "cell_type": "code",
   "execution_count": 11,
   "metadata": {},
   "outputs": [],
   "source": [
    "from alpha_vantage.timeseries import TimeSeries\n",
    "import json"
   ]
  },
  {
   "cell_type": "code",
   "execution_count": 12,
   "metadata": {},
   "outputs": [],
   "source": [
    "def save_dataset(symbol):\n",
    "    credentialsObj = json.load(open('keys.json', 'r'))\n",
    "    api_key = credentialsObj['AV_api_key']\n",
    "\n",
    "    ts = TimeSeries(key=api_key, output_format='pandas')\n",
    "    data, meta_data = ts.get_daily(symbol, outputsize='full')\n",
    "\n",
    "    data.to_csv(f'./{symbol}_daily.csv')"
   ]
  },
  {
   "cell_type": "code",
   "execution_count": 13,
   "metadata": {},
   "outputs": [],
   "source": [
    "save_dataset('GOOGL')"
   ]
  },
  {
   "cell_type": "code",
   "execution_count": 14,
   "metadata": {},
   "outputs": [],
   "source": [
    "save_dataset('NFLX')"
   ]
  },
  {
   "cell_type": "code",
   "execution_count": 15,
   "metadata": {},
   "outputs": [],
   "source": [
    "save_dataset('AMZN')"
   ]
  },
  {
   "cell_type": "code",
   "execution_count": 17,
   "metadata": {},
   "outputs": [],
   "source": [
    "save_dataset('FB')"
   ]
  },
  {
   "cell_type": "code",
   "execution_count": null,
   "metadata": {},
   "outputs": [],
   "source": []
  },
  {
   "cell_type": "code",
   "execution_count": null,
   "metadata": {},
   "outputs": [],
   "source": []
  },
  {
   "cell_type": "code",
   "execution_count": null,
   "metadata": {},
   "outputs": [],
   "source": []
  }
 ],
 "metadata": {
  "kernelspec": {
   "display_name": "Python 3",
   "language": "python",
   "name": "python3"
  },
  "language_info": {
   "codemirror_mode": {
    "name": "ipython",
    "version": 3
   },
   "file_extension": ".py",
   "mimetype": "text/x-python",
   "name": "python",
   "nbconvert_exporter": "python",
   "pygments_lexer": "ipython3",
   "version": "3.8.3"
  }
 },
 "nbformat": 4,
 "nbformat_minor": 4
}
