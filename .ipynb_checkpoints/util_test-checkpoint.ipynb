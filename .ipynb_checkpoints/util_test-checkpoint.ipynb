{
 "cells": [
  {
   "cell_type": "code",
   "execution_count": 1,
   "metadata": {},
   "outputs": [],
   "source": [
    "import pandas as pd\n",
    "from sklearn import preprocessing\n",
    "import numpy as np"
   ]
  },
  {
   "cell_type": "code",
   "execution_count": 2,
   "metadata": {},
   "outputs": [],
   "source": [
    "history_days = 50"
   ]
  },
  {
   "cell_type": "code",
   "execution_count": 50,
   "metadata": {},
   "outputs": [],
   "source": [
    "def csv_to_dataset(csv_file_path):\n",
    "    file_data = pd.read_csv(csv_file_path)\n",
    "    file_data = file_data.iloc[::-1] # Reverse order, most recent values last, want to be predicting into future, not past\n",
    "    file_data = file_data.drop('date', axis=1)\n",
    "    file_data = file_data.drop(0, axis=0)\n",
    "    print(\"File data DataFrame:\", file_data.shape)\n",
    "    print(file_data.head())\n",
    "    file_data = file_data.values\n",
    "    \n",
    "    normalizing_scaler = preprocessing.MinMaxScaler()\n",
    "    normalized_data = normalizing_scaler.fit_transform(file_data)\n",
    "    print()\n",
    "    print(\"Normalized data\")\n",
    "    print(normalized_data[0:5,:])\n",
    "    \n",
    "    # Data is in order of: Open stock value, high value, low, close, and volume - ohlcv\n",
    "    # Creates array of 5x50-value array windows, each one will be a training input into model\n",
    "    ohlcv_histories_normalised = np.array([normalized_data[i : i + history_days].copy() for i in range(len(normalized_data) - history_days)])\n",
    "    print()\n",
    "    print(\"Normalized inputs\")\n",
    "    print(ohlcv_histories_normalised.shape)\n",
    "    print(ohlcv_histories_normalised[0:2,0:5])\n",
    "    \n",
    "    # Get scaled stock open price values, which model is predicting\n",
    "    next_day_open_values_normalised = np.array([normalized_data[:,0][i + history_days].copy() for i in range(len(normalized_data) - history_days)])\n",
    "    next_day_open_values_normalised = np.expand_dims(next_day_open_values_normalised, -1)\n",
    "    print()\n",
    "    print(\"Next day open values scaled:\", next_day_open_values_normalised.shape)\n",
    "    \n",
    "    # Get unscaled stock open price from original file data\n",
    "    next_day_open_values = np.array([file_data[:,0][i + history_days].copy() for i in range(len(file_data) - history_days)])\n",
    "    next_day_open_values = np.expand_dims(next_day_open_values, -1)\n",
    "    print(\"Next day open values unscaled:\", next_day_open_values.shape)\n",
    "\n",
    "    y_normaliser = preprocessing.MinMaxScaler()\n",
    "    y_normaliser.fit(next_day_open_values)\n",
    "    \n",
    "    assert ohlcv_histories_normalised.shape[0] == next_day_open_values_normalised.shape[0]\n",
    "    return ohlcv_histories_normalised, next_day_open_values_normalised, next_day_open_values, y_normaliser"
   ]
  },
  {
   "cell_type": "code",
   "execution_count": 54,
   "metadata": {
    "scrolled": false
   },
   "outputs": [
    {
     "name": "stdout",
     "output_type": "stream",
     "text": [
      "(5254, 5)\n",
      "   1. open  2. high  3. low  4. close   5. volume\n",
      "1   200.05   204.33  199.96    202.91  34011257.0\n",
      "2   210.62   210.65  204.64    205.05  26372464.0\n",
      "3   208.42   209.78  206.93    208.78  21823942.0\n",
      "4   204.24   209.20  204.03    205.41  30375768.0\n",
      "5   207.20   208.63  201.24    204.03  33620073.0\n",
      "\n",
      "Normalized data\n",
      "[[0.86350259 0.86867059 0.87109375 0.86725173 0.04812097]\n",
      " [0.91287896 0.89776284 0.89311935 0.87713626 0.03506769]\n",
      " [0.90260195 0.89375806 0.90389684 0.8943649  0.02729512]\n",
      " [0.88307563 0.8910882  0.89024849 0.87879908 0.04190859]\n",
      " [0.89690288 0.88846437 0.87711785 0.87242494 0.04745251]]\n",
      "\n",
      "Normalized inputs\n",
      "(5204, 50, 5)\n",
      "[[[0.86350259 0.86867059 0.87109375 0.86725173 0.04812097]\n",
      "  [0.91287896 0.89776284 0.89311935 0.87713626 0.03506769]\n",
      "  [0.90260195 0.89375806 0.90389684 0.8943649  0.02729512]\n",
      "  [0.88307563 0.8910882  0.89024849 0.87879908 0.04190859]\n",
      "  [0.89690288 0.88846437 0.87711785 0.87242494 0.04745251]]\n",
      "\n",
      " [[0.91287896 0.89776284 0.89311935 0.87713626 0.03506769]\n",
      "  [0.90260195 0.89375806 0.90389684 0.8943649  0.02729512]\n",
      "  [0.88307563 0.8910882  0.89024849 0.87879908 0.04190859]\n",
      "  [0.89690288 0.88846437 0.87711785 0.87242494 0.04745251]\n",
      "  [0.92586537 0.91658995 0.890625   0.87861432 0.05059919]]]\n",
      "\n",
      "Next day open values scaled: (5204, 1)\n",
      "Next day open values unscaled: (5204, 1)\n"
     ]
    }
   ],
   "source": [
    "ohlcv_histories_scaled, next_day_open_values_scaled, open_values_unscaled, y_normaliser = csv_to_dataset('./MSFT_daily.csv')"
   ]
  },
  {
   "cell_type": "code",
   "execution_count": null,
   "metadata": {},
   "outputs": [],
   "source": []
  },
  {
   "cell_type": "code",
   "execution_count": null,
   "metadata": {},
   "outputs": [],
   "source": []
  },
  {
   "cell_type": "code",
   "execution_count": null,
   "metadata": {},
   "outputs": [],
   "source": []
  },
  {
   "cell_type": "code",
   "execution_count": null,
   "metadata": {},
   "outputs": [],
   "source": []
  },
  {
   "cell_type": "code",
   "execution_count": null,
   "metadata": {},
   "outputs": [],
   "source": []
  }
 ],
 "metadata": {
  "kernelspec": {
   "display_name": "Python 3",
   "language": "python",
   "name": "python3"
  },
  "language_info": {
   "codemirror_mode": {
    "name": "ipython",
    "version": 3
   },
   "file_extension": ".py",
   "mimetype": "text/x-python",
   "name": "python",
   "nbconvert_exporter": "python",
   "pygments_lexer": "ipython3",
   "version": "3.8.3"
  }
 },
 "nbformat": 4,
 "nbformat_minor": 4
}
