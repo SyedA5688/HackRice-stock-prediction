{
 "cells": [
  {
   "cell_type": "code",
   "execution_count": 1,
   "metadata": {},
   "outputs": [],
   "source": [
    "import numpy as np\n",
    "import pandas as pd\n",
    "from sklearn import preprocessing\n",
    "import matplotlib.pyplot as plt\n",
    "from keras.models import load_model"
   ]
  },
  {
   "cell_type": "code",
   "execution_count": 2,
   "metadata": {},
   "outputs": [],
   "source": [
    "# Loads saved model\n",
    "model = load_model('multiple_input_multiple_datasets_model.h5')"
   ]
  },
  {
   "cell_type": "code",
   "execution_count": 3,
   "metadata": {},
   "outputs": [],
   "source": [
    "def get_model_prediction(dataset_filename_to_read):\n",
    "  data = pd.read_csv(dataset_filename_to_read)\n",
    "  data = data.iloc[::-1]\n",
    "  data = data.drop('date', axis=1)\n",
    "  data = data.values\n",
    "\n",
    "  normalizing_scaler = preprocessing.MinMaxScaler()\n",
    "  normalized_data = normalizing_scaler.fit_transform(data)\n",
    "\n",
    "  # Get y_normalizer\n",
    "  # Get unscaled stock open price from original file data\n",
    "  next_day_open_values = np.array([data[:,0][i + 30].copy() for i in range(len(data) - 30)])\n",
    "  next_day_open_values = np.expand_dims(next_day_open_values, -1)\n",
    "  y_normaliser = preprocessing.MinMaxScaler()\n",
    "  y_normaliser.fit(next_day_open_values)\n",
    "\n",
    "  # Get most recent 30 stock market open prices to feed to model, as well as moving average of values\n",
    "  ohlcv_one = normalized_data[-30:]\n",
    "  mov_avg_one = np.mean(ohlcv_one[:,3])\n",
    "  # Prepare values to be fed into model\n",
    "  ohlcv_one = np.array([ohlcv_one])\n",
    "  mov_avg_one = np.array([mov_avg_one])\n",
    "\n",
    "  predicted_price_tomorrow = np.squeeze(y_normaliser.inverse_transform(model.predict([ohlcv_one, mov_avg_one])))\n",
    "  return predicted_price_tomorrow"
   ]
  },
  {
   "cell_type": "code",
   "execution_count": 8,
   "metadata": {},
   "outputs": [
    {
     "data": {
      "text/plain": [
       "array(253.63635, dtype=float32)"
      ]
     },
     "execution_count": 8,
     "metadata": {},
     "output_type": "execute_result"
    }
   ],
   "source": [
    "user_query = \"FB\"\n",
    "fileName = user_query + \"_daily.csv\"\n",
    "next_day_opening_stock_price = get_model_prediction(fileName)"
   ]
  },
  {
   "cell_type": "code",
   "execution_count": 12,
   "metadata": {},
   "outputs": [
    {
     "name": "stdout",
     "output_type": "stream",
     "text": [
      "<class 'numpy.ndarray'>\n",
      "253.63635\n",
      "<class 'int'>\n",
      "253\n"
     ]
    }
   ],
   "source": [
    "print(type(next_day_opening_stock_price))\n",
    "print(next_day_opening_stock_price)\n",
    "next_day_opening_stock_price = int(next_day_opening_stock_price)\n",
    "print(type(next_day_opening_stock_price))\n",
    "print(next_day_opening_stock_price)"
   ]
  },
  {
   "cell_type": "code",
   "execution_count": null,
   "metadata": {},
   "outputs": [],
   "source": []
  },
  {
   "cell_type": "code",
   "execution_count": null,
   "metadata": {},
   "outputs": [],
   "source": []
  },
  {
   "cell_type": "code",
   "execution_count": null,
   "metadata": {},
   "outputs": [],
   "source": []
  },
  {
   "cell_type": "code",
   "execution_count": null,
   "metadata": {},
   "outputs": [],
   "source": []
  },
  {
   "cell_type": "code",
   "execution_count": null,
   "metadata": {},
   "outputs": [],
   "source": [
    "# csv file path of dataset testing model on. Top of dataset is most recent stock prices\n",
    "dataset_filename_to_read = 'NFLX_daily.csv'\n",
    "data = pd.read_csv(dataset_filename_to_read)\n",
    "data = data.iloc[::-1]\n",
    "data = data.drop('date', axis=1)\n",
    "print(data.head())\n",
    "print(data.shape)\n",
    "print(type(data))"
   ]
  },
  {
   "cell_type": "code",
   "execution_count": null,
   "metadata": {},
   "outputs": [],
   "source": [
    "data = data.values\n",
    "print(type(data))"
   ]
  },
  {
   "cell_type": "code",
   "execution_count": null,
   "metadata": {},
   "outputs": [],
   "source": [
    "most_recent_open_values = data[-10:,0]\n",
    "print(most_recent_open_values)"
   ]
  },
  {
   "cell_type": "code",
   "execution_count": null,
   "metadata": {},
   "outputs": [],
   "source": [
    "plt.plot(data[-60:,0])"
   ]
  },
  {
   "cell_type": "code",
   "execution_count": null,
   "metadata": {},
   "outputs": [],
   "source": [
    "normalizing_scaler = preprocessing.MinMaxScaler()\n",
    "normalized_data = normalizing_scaler.fit_transform(data)\n",
    "print(\"Normalized data\")\n",
    "print(normalized_data[-5:-1,:])\n",
    "print(normalized_data.shape)"
   ]
  },
  {
   "cell_type": "code",
   "execution_count": null,
   "metadata": {},
   "outputs": [],
   "source": [
    "# Get y_normalizer\n",
    "# Get unscaled stock open price from original file data\n",
    "next_day_open_values = np.array([data[:,0][i + 30].copy() for i in range(len(data) - 30)])\n",
    "next_day_open_values = np.expand_dims(next_day_open_values, -1)\n",
    "print(\"Next day open values unscaled:\", next_day_open_values.shape)\n",
    "\n",
    "y_normaliser = preprocessing.MinMaxScaler()\n",
    "y_normaliser.fit(next_day_open_values)"
   ]
  },
  {
   "cell_type": "code",
   "execution_count": null,
   "metadata": {},
   "outputs": [],
   "source": [
    "# ohlcv_one is first 50 readings (days) of open/high/low/close/volume values\n",
    "ohlcv_one = normalized_data[-30:]\n",
    "#ohlcv_one = np.array([ohlcv_one])\n",
    "print(ohlcv_one.shape)\n",
    "print(ohlcv_one[0][0])\n",
    "\n",
    "ohlcv_two = normalized_data[-60:-30]\n",
    "#ohlcv_two = np.array([ohlcv_two])"
   ]
  },
  {
   "cell_type": "code",
   "execution_count": null,
   "metadata": {},
   "outputs": [],
   "source": [
    "mov_avg_one = np.mean(ohlcv_one[:,3]) # closing price average, so average closing price from first 50 days\n",
    "print(type(mov_avg_one))\n",
    "print(mov_avg_one)\n",
    "\n",
    "mov_avg_two = np.mean(ohlcv_two[:,3])"
   ]
  },
  {
   "cell_type": "code",
   "execution_count": null,
   "metadata": {},
   "outputs": [],
   "source": [
    "def test_model(ohlcvItem, movAvgItem):\n",
    "    normalized_price_today = ohlcvItem[0][0]\n",
    "    normalized_price_today = np.array([[normalized_price_today]])\n",
    "    price_today = y_normaliser.inverse_transform(normalized_price_today)\n",
    "    \n",
    "    ohlcvItem = np.array([ohlcvItem])\n",
    "    movAvgItem = np.array([movAvgItem])\n",
    "    print(ohlcvItem.shape)\n",
    "    print(movAvgItem.shape)\n",
    "\n",
    "    predicted_price_tomorrow = np.squeeze(y_normaliser.inverse_transform(model.predict([ohlcvItem, movAvgItem])))\n",
    "    print(\"Actual price: \", price_today)\n",
    "    print(\"Predicted price: \", predicted_price_tomorrow)"
   ]
  },
  {
   "cell_type": "code",
   "execution_count": null,
   "metadata": {},
   "outputs": [],
   "source": [
    "test_model(ohlcv_one, mov_avg_one)"
   ]
  },
  {
   "cell_type": "code",
   "execution_count": null,
   "metadata": {},
   "outputs": [],
   "source": [
    "test_model(ohlcv_two, mov_avg_two)"
   ]
  },
  {
   "cell_type": "code",
   "execution_count": null,
   "metadata": {},
   "outputs": [],
   "source": []
  },
  {
   "cell_type": "code",
   "execution_count": null,
   "metadata": {},
   "outputs": [],
   "source": []
  },
  {
   "cell_type": "code",
   "execution_count": null,
   "metadata": {},
   "outputs": [],
   "source": []
  },
  {
   "cell_type": "markdown",
   "metadata": {},
   "source": [
    "## Getting pictures for presentation"
   ]
  },
  {
   "cell_type": "code",
   "execution_count": null,
   "metadata": {},
   "outputs": [],
   "source": [
    "history_days = 30"
   ]
  },
  {
   "cell_type": "code",
   "execution_count": null,
   "metadata": {},
   "outputs": [],
   "source": [
    "def csv_to_dataset(csv_file_path):\n",
    "  file_data = pd.read_csv(csv_file_path)\n",
    "  file_data = file_data.iloc[::-1] # Reverse order, most recent values last, want to be predicting into future, not past\n",
    "  file_data = file_data.drop('date', axis=1)\n",
    "  file_data = file_data.drop(0, axis=0)\n",
    "  print(\"File data DataFrame:\", file_data.shape)\n",
    "  print(file_data.head())\n",
    "  file_data = file_data.values\n",
    "  \n",
    "  normalizing_scaler = preprocessing.MinMaxScaler()\n",
    "  normalized_data = normalizing_scaler.fit_transform(file_data)\n",
    "  print()\n",
    "  print(\"Normalized data\")\n",
    "  print(normalized_data[0:5,:])\n",
    "  \n",
    "  # Data is in order of: Open stock value, high value, low, close, and volume - ohlcv\n",
    "  # Creates array of 5x50-value array windows, each one will be a training input into model\n",
    "  ohlcv_histories_normalised = np.array([normalized_data[i : i + history_days].copy() for i in range(len(normalized_data) - history_days)])\n",
    "  print()\n",
    "  print(\"Normalized inputs\", ohlcv_histories_normalised.shape)\n",
    "  #print(ohlcv_histories_normalised[0:2,0:5])\n",
    "  \n",
    "  # Get scaled stock open price values, which model is predicting\n",
    "  next_day_open_values_normalised = np.array([normalized_data[:,0][i + history_days].copy() for i in range(len(normalized_data) - history_days)])\n",
    "  next_day_open_values_normalised = np.expand_dims(next_day_open_values_normalised, -1)\n",
    "  #print()\n",
    "  print(\"Next day open values scaled:\", next_day_open_values_normalised.shape)\n",
    "  \n",
    "  # Get unscaled stock open price from original file data\n",
    "  next_day_open_values = np.array([file_data[:,0][i + history_days].copy() for i in range(len(file_data) - history_days)])\n",
    "  next_day_open_values = np.expand_dims(next_day_open_values, -1)\n",
    "  print(\"Next day open values unscaled:\", next_day_open_values.shape)\n",
    "\n",
    "  y_normaliser = preprocessing.MinMaxScaler()\n",
    "  y_normaliser.fit(next_day_open_values)\n",
    "\n",
    "  # Moving average technical indicator of stock price input\n",
    "  moving_averages = []\n",
    "  for his in ohlcv_histories_normalised:\n",
    "    sma = np.mean(his[:,3]) # Using closing price of the stocks for the moving average, not open price\n",
    "    moving_averages.append(np.array([sma]))\n",
    "\n",
    "  moving_averages = np.array(moving_averages) # Convert to numpy array\n",
    "  moving_averages_scaler = preprocessing.MinMaxScaler() # Scale with min-max scaler\n",
    "  moving_averages_normalised = moving_averages_scaler.fit_transform(moving_averages)\n",
    "\n",
    "  assert ohlcv_histories_normalised.shape[0] == next_day_open_values_normalised.shape[0] == moving_averages_normalised.shape[0]\n",
    "  return ohlcv_histories_normalised, moving_averages_normalised, next_day_open_values_normalised, next_day_open_values, y_normaliser"
   ]
  },
  {
   "cell_type": "code",
   "execution_count": null,
   "metadata": {},
   "outputs": [],
   "source": [
    "def multiple_csv_to_dataset(test_set_name):\n",
    "  import os\n",
    "  ohlcv_histories = 0\n",
    "  moving_averages = 0\n",
    "  next_day_open_values = 0\n",
    "  # For each company stock dataset in directory, add data to training dataset\n",
    "  for csv_file_path in list(filter(lambda x: x.endswith('daily.csv'), os.listdir('./'))):\n",
    "    if not csv_file_path == test_set_name:\n",
    "      print(csv_file_path)\n",
    "      if type(ohlcv_histories) == int:\n",
    "        ohlcv_histories, moving_averages, next_day_open_values, _, _ = csv_to_dataset(csv_file_path)\n",
    "      else:\n",
    "        a, b, c, _, _ = csv_to_dataset(csv_file_path)\n",
    "        ohlcv_histories = np.concatenate((ohlcv_histories, a), 0)\n",
    "        moving_averages = np.concatenate((moving_averages, b), 0)\n",
    "        next_day_open_values = np.concatenate((next_day_open_values, c), 0)\n",
    "\n",
    "  ohlcv_train = ohlcv_histories\n",
    "  mov_avg_train = moving_averages\n",
    "  open_prices_train = next_day_open_values\n",
    "\n",
    "  ohlcv_test, mov_avg_test, open_prices_test, unscaled_open_prices_test, y_normaliser = csv_to_dataset(test_set_name)\n",
    "\n",
    "  return ohlcv_train, mov_avg_train, open_prices_train, ohlcv_test, mov_avg_test, open_prices_test, unscaled_open_prices_test, y_normaliser"
   ]
  },
  {
   "cell_type": "code",
   "execution_count": null,
   "metadata": {},
   "outputs": [],
   "source": [
    "#ohlcv_train, mov_avg_train, open_prices_train, ohlcv_test, mov_avg_test, open_prices_test, unscaled_open_prices_test, y_normaliser = multiple_csv_to_dataset('FB_daily.csv')"
   ]
  },
  {
   "cell_type": "code",
   "execution_count": null,
   "metadata": {},
   "outputs": [],
   "source": [
    "#open_prices_test_predicted = model.predict([ohlcv_test, mov_avg_test])\n",
    "#open_prices_test_predicted = y_normaliser.inverse_transform(open_prices_test_predicted)"
   ]
  },
  {
   "cell_type": "code",
   "execution_count": null,
   "metadata": {},
   "outputs": [],
   "source": [
    "#import matplotlib.pyplot as plt"
   ]
  },
  {
   "cell_type": "code",
   "execution_count": null,
   "metadata": {},
   "outputs": [],
   "source": [
    "#plt.gcf().set_size_inches(22, 15, forward=True)\n",
    "#start = 0\n",
    "#end = -1\n",
    "#real = plt.plot(unscaled_open_prices_test[start:end], label='real')\n",
    "#pred = plt.plot(open_prices_test_predicted[start:end], label='predicted')\n",
    "\n",
    "#plt.legend(['Real', 'Predicted'])\n",
    "#plt.show()"
   ]
  },
  {
   "cell_type": "code",
   "execution_count": null,
   "metadata": {},
   "outputs": [],
   "source": []
  },
  {
   "cell_type": "code",
   "execution_count": null,
   "metadata": {},
   "outputs": [],
   "source": []
  },
  {
   "cell_type": "code",
   "execution_count": null,
   "metadata": {},
   "outputs": [],
   "source": []
  }
 ],
 "metadata": {
  "kernelspec": {
   "display_name": "Python 3",
   "language": "python",
   "name": "python3"
  },
  "language_info": {
   "codemirror_mode": {
    "name": "ipython",
    "version": 3
   },
   "file_extension": ".py",
   "mimetype": "text/x-python",
   "name": "python",
   "nbconvert_exporter": "python",
   "pygments_lexer": "ipython3",
   "version": "3.8.3"
  }
 },
 "nbformat": 4,
 "nbformat_minor": 4
}
